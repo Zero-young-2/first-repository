{
 "cells": [
  {
   "cell_type": "code",
   "execution_count": 44,
   "id": "ac671502",
   "metadata": {},
   "outputs": [],
   "source": [
    "#사각형 넓이 구하기\n",
    "\n",
    "class Square:\n",
    "    def __int__(self):\n",
    "        self.square = int(input('넓이를 구하고 싶은 사각형의 숫자를 써주세요.\\n 1.직사각형 2.평행사변형 3.사다리꼴\\n >>>'))\n",
    "        \n",
    "        if self.square == 1:\n",
    "            print('직사각형 함수는 rect()입니다.')\n",
    "        elif self.square == 2:\n",
    "            print('평행사변형 함수는 par()입니다.')\n",
    "        elif self.square == 3:\n",
    "            print('사다리꼴 함수는 trape()입니다.')\n",
    "        else:\n",
    "            print('1, 2, 3 중에서 다시 입력해주세요')\n",
    "            \n",
    "    def rect(self):\n",
    "        self.width, self.vertical = map(int, input('가로, 세로를 입력하세요. 예시 : 가로,세로\\n >>> ').split(','))\n",
    "        area = self.width * self.vertical\n",
    "        result = '직사각형의 넓이는 : ' + str(area)\n",
    "        return result\n",
    "    \n",
    "    def par(self):\n",
    "        bottom, hieght = map(int, input('밑변, 높이를 입력하세요. 예시 : 밑변,높이\\n >>> ').split(','))\n",
    "        area = bottom * hieght\n",
    "        result = '평행사변형의 넓이는 : ' + str(area)\n",
    "        return result\n",
    "        \n",
    "    def trape(self):\n",
    "        bottom, upper_edge, hieght = map(int, input('밑변, 윗변, 높이를 입력하세요. 예시 : 밑변,윗변,높이\\n >>> ').split(','))\n",
    "        area = (bottom + upper_edge) * hieght / 2\n",
    "        result = '사다리꼴의 넓이는 : ' + str(area)\n",
    "        return result\n",
    "    \n",
    "        \n"
   ]
  },
  {
   "cell_type": "code",
   "execution_count": 45,
   "id": "4551e71f",
   "metadata": {},
   "outputs": [
    {
     "name": "stdout",
     "output_type": "stream",
     "text": [
      "가로, 세로를 입력하세요. 예시 : 가로,세로\n",
      " >>> 3,4\n"
     ]
    },
    {
     "data": {
      "text/plain": [
       "'직사각형의 넓이는 : 12'"
      ]
     },
     "execution_count": 45,
     "metadata": {},
     "output_type": "execute_result"
    }
   ],
   "source": [
    "a = Square()\n",
    "a.rect()\n"
   ]
  },
  {
   "cell_type": "code",
   "execution_count": 39,
   "id": "de839cc0",
   "metadata": {},
   "outputs": [
    {
     "name": "stdout",
     "output_type": "stream",
     "text": [
      "밑변, 높이를 입력하세요. 예시 : 밑변,높이\n",
      " >>> 3,2\n"
     ]
    },
    {
     "data": {
      "text/plain": [
       "'평행사변형의 넓이는 : 6'"
      ]
     },
     "execution_count": 39,
     "metadata": {},
     "output_type": "execute_result"
    }
   ],
   "source": [
    "a.par()"
   ]
  },
  {
   "cell_type": "code",
   "execution_count": 40,
   "id": "c8e770bd",
   "metadata": {},
   "outputs": [
    {
     "name": "stdout",
     "output_type": "stream",
     "text": [
      "밑변, 윗변, 높이를 입력하세요. 예시 : 밑변,윗변,높이\n",
      " >>> 3,2,1\n"
     ]
    },
    {
     "data": {
      "text/plain": [
       "'사다리꼴의 넓이는 : 2.5'"
      ]
     },
     "execution_count": 40,
     "metadata": {},
     "output_type": "execute_result"
    }
   ],
   "source": [
    "a.trape()"
   ]
  },
  {
   "cell_type": "code",
   "execution_count": 11,
   "id": "1b446122",
   "metadata": {},
   "outputs": [
    {
     "name": "stdout",
     "output_type": "stream",
     "text": [
      "1 americano  :  2000 원\n",
      "2 latte  :  3000 원\n",
      "3 mocha  :  3000 원\n",
      "4 yuza_tea  :  2500 원\n",
      "5 green_tea  :  2500 원\n",
      "6 choco_latte  :  3000 원\n",
      "음료 번호를 입력하세요 : 2\n",
      "HOT 음료는 1을, ICE 음료는 2를 입력하세요 : 2\n",
      "주문 음료 ICE latte  :  3000 원\n",
      "\n",
      "추가 주문은 음료 번호를, 지불은 0을 누르세요 : 5\n",
      "HOT 음료는 1을, ICE 음료는 2를 입력하세요 : 1\n",
      "추가 주문 음료 HOT green_tea  : 2500 원\n",
      "합계 : 5500 원\n",
      "\n",
      "추가 주문은 음료 번호를, 지불은 0을 누르세요 : 0\n",
      "주문이 완료되었습니다.\n",
      "['ICE latte', 'HOT green_tea'] [3000, 2500]\n",
      "총 합계 금액은 5500 원 입니다. 지불 수단을 선택하세요.\n",
      "현금은 'cash' 혹은 1, 카드는 'card' 혹은 2를 입력하세요.2\n",
      "IC칩 방향에 맞게 카드를 꽂아주세요.\n",
      "⟝------------------------------⟞\n",
      "|                               |\n",
      "|                               |\n",
      "|                               |\n",
      "|                               |\n",
      "|                               |\n",
      "|  ICE latte  :  3000\n",
      "|  HOT green_tea  :  2500\n",
      "|  합계 금액 : 5500\n",
      "|                               |\n",
      "|                               |\n",
      "|                               |\n",
      "|                               |\n",
      "|                               |\n",
      "⟝------------------------------⟞\n"
     ]
    }
   ],
   "source": [
    "# 키오스크 만들기 1\n",
    "\n",
    "menu = ['americano', 'latte', 'mocha', 'yuza_tea', 'green_tea', 'choco_latte']\n",
    "price = [2000, 3000, 3000, 2500, 2500, 3000]\n",
    "\n",
    "\n",
    "class Kiosk:\n",
    "    def __init__(self):\n",
    "        self.menu = menu\n",
    "        self.price = price\n",
    "\n",
    "    def menu_print(self):\n",
    "        for i in range(len(self.menu)):\n",
    "            print(i + 1, self.menu[i], ' : ', self.price[i], '원')\n",
    "\n",
    "    def menu_select(self):\n",
    "        self.order_menu = []\n",
    "        self.order_price = []\n",
    "\n",
    "        n = 0\n",
    "        while n < 1 or len(menu) < n:\n",
    "            n = int(input(\"음료 번호를 입력하세요 : \"))\n",
    "\n",
    "            if 1 <= n & n <= len(menu):\n",
    "                self.order_price.append(self.price[n - 1])\n",
    "                self.price_sum = self.price[n - 1]\n",
    "\n",
    "            else:\n",
    "                print(\"없는 메뉴입니다. 다시 주문해 주세요.\")\n",
    "\n",
    "        t = 0\n",
    "        while t != 1 and t != 2:\n",
    "            t = int(input(\"HOT 음료는 1을, ICE 음료는 2를 입력하세요 : \"))\n",
    "\n",
    "            if t == 1:\n",
    "                self.temp = \"HOT\"\n",
    "            elif t == 2:\n",
    "                self.temp = \"ICE\"\n",
    "            else:\n",
    "                print(\"1과 2 중 하나를 입력하세요.\\n\")\n",
    "\n",
    "        self.order_menu.append(self.temp + ' ' + self.menu[n - 1])\n",
    "\n",
    "        print('주문 음료', self.temp, self.menu[n - 1], ' : ', self.price[n - 1], '원')\n",
    "\n",
    "        while n != 0:\n",
    "            print()\n",
    "            n = int(input(\"추가 주문은 음료 번호를, 지불은 0을 누르세요 : \"))\n",
    "            if n > 0 and n < len(self.menu) + 1:\n",
    "                t = 0\n",
    "                while t != 1 and t != 2:\n",
    "                    t = int(input(\"HOT 음료는 1을, ICE 음료는 2를 입력하세요 : \"))\n",
    "\n",
    "                    if t == 1:\n",
    "                        self.temp = \"HOT\"\n",
    "                    elif t == 2:\n",
    "                        self.temp = \"ICE\"\n",
    "                    else:\n",
    "                        print(\"1과 2 중 하나를 입력하세요.\\n\")\n",
    "\n",
    "                self.order_price.append(self.price[n - 1])\n",
    "                self.price_sum += self.price[n - 1]\n",
    "                self.order_menu.append(self.temp + ' ' + self.menu[n - 1])\n",
    "                print(f'추가 주문 음료 {self.temp} {self.menu[n-1]}  : {self.price[n-1]} 원\\n합계 : {self.price_sum} 원')\n",
    "            else:\n",
    "                if n == 0:  # 지불을 입력하면\n",
    "                    print(\"주문이 완료되었습니다.\")\n",
    "                    print(self.order_menu, self.order_price)  # 확인을 위한 리스트를 출력합니다.\n",
    "                else:  # 없는 번호를 입력할 때\n",
    "                    print(\"없는 메뉴입니다. 다시 주문해 주세요.\")\n",
    "\n",
    "    # 문제 3-1. 지불 메서드\n",
    "    # 위의 설명을 참고하여 pay 함수를 구현합니다.\n",
    "    def pay(self):\n",
    "        self.isPaid = False\n",
    "\n",
    "        def cash():\n",
    "            print('직원을 호출하겠습니다.')\n",
    "            self.isPaid = True\n",
    "\n",
    "        def card():\n",
    "            print('IC칩 방향에 맞게 카드를 꽂아주세요.')\n",
    "            self.isPaid = True\n",
    "\n",
    "        while not self.isPaid:\n",
    "            select=input(f\"총 합계 금액은 {self.price_sum} 원 입니다. 지불 수단을 선택하세요.\\n현금은 'cash' 혹은 1, 카드는 'card' 혹은 2를 입력하세요.\")\n",
    "            {\n",
    "                \"1\": cash,\n",
    "                \"2\": card,\n",
    "                \"cash\": cash,\n",
    "                \"card\": card\n",
    "             }.get(select, lambda : print(\"다시 결제를 시도해 주세요.\"))()\n",
    "\n",
    "    def table(self):\n",
    "        # 외곽\n",
    "        print('⟝' + '-' * 30 + '⟞')\n",
    "        for i in range(5):\n",
    "            print('|' + ' ' * 31 + '|')\n",
    "\n",
    "        # 주문 상품명 : 해당 금액\n",
    "        for i in range(len(self.order_menu)):\n",
    "            print(\"|  \"+self.order_menu[i], ' : ', self.order_price[i])\n",
    "\n",
    "        print('|  합계 금액 :', self.price_sum)\n",
    "\n",
    "        # 외곽\n",
    "        for i in range(5):\n",
    "            print('|' + ' ' * 31 + '|')\n",
    "        print('⟝' + '-' * 30 + '⟞')\n",
    "\n",
    "kiosk = Kiosk()\n",
    "kiosk.menu_print()\n",
    "kiosk.menu_select()\n",
    "kiosk.pay()\n",
    "kiosk.table()"
   ]
  },
  {
   "cell_type": "code",
   "execution_count": null,
   "id": "9cd136da",
   "metadata": {},
   "outputs": [],
   "source": []
  }
 ],
 "metadata": {
  "kernelspec": {
   "display_name": "Python 3 (ipykernel)",
   "language": "python",
   "name": "python3"
  },
  "language_info": {
   "codemirror_mode": {
    "name": "ipython",
    "version": 3
   },
   "file_extension": ".py",
   "mimetype": "text/x-python",
   "name": "python",
   "nbconvert_exporter": "python",
   "pygments_lexer": "ipython3",
   "version": "3.9.7"
  }
 },
 "nbformat": 4,
 "nbformat_minor": 5
}
