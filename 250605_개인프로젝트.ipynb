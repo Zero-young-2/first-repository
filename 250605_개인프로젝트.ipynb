{
 "cells": [
  {
   "cell_type": "code",
   "execution_count": 20,
   "id": "77f1518e",
   "metadata": {},
   "outputs": [],
   "source": [
    "# Q1.\n",
    "#계좌 개설: 은행 이름, 예금주, 계좌번호, 잔액  \n",
    "# 생성자: 예금주, 초기 잔액\n",
    "\n",
    "import random\n",
    "\n",
    "\n",
    "class Account:\n",
    "    bank = 'SC은행'\n",
    "    account_count = 0   # 지금까지 만든 계좌 수            \n",
    "    \n",
    "    def __init__(self, owner, balance):\n",
    "        self.owner = owner\n",
    "        self.balance = balance\n",
    "        self.account_number = self.generate_account_number()\n",
    "        \n",
    "        self.deposit_count = 0\n",
    "        self.deposit_list = []\n",
    "        \n",
    "        self.withdraw_list = []\n",
    "        \n",
    "        Account.account_count += 1                        \n",
    "    \n",
    "    def generate_account_number(self):\n",
    "        f = random.randint(100,999)\n",
    "        s = random.randint(10,99)\n",
    "        t = random.randint(100000,999999)\n",
    "        return f\"{f}-{s}-{t}\"\n",
    "    \n",
    "    @classmethod\n",
    "    def get_account_num(cls):\n",
    "        print(f\"총 계좌 개수: {cls.account_count}\")\n",
    "        \n",
    "    def deposit(self, amount):\n",
    "        if amount >= 1:\n",
    "            self.balance += amount\n",
    "            self.deposit_count += 1\n",
    "            self.deposit_list.append(amount)\n",
    "            \n",
    "            if self.deposit_count % 5 == 0:\n",
    "                interest = self.balance * 0.01\n",
    "                self.balance += interest\n",
    "                \n",
    "            print(f\"{amount}원 입금되었습니다. 잔액: {self.balance:,}원\")\n",
    "        else:\n",
    "            print(\"입금은 1원 이상만 가능합니다.\")\n",
    "        \n",
    "    \n",
    "    def withdraw(self, amount):\n",
    "        if amount > self.balance:\n",
    "            print(\"잔액이 부족합니다.\")\n",
    "        \n",
    "        else:\n",
    "            self.balance -= amount\n",
    "            self.withdraw_list.append(amount)\n",
    "            print(f\"{amount}원 출금 되었습니다. 잔액: {self.balance:,}원\")\n",
    "            \n",
    "            \n",
    "    def display_info(self):\n",
    "        print(f\"은행이름: {Account.bank}, 예금주: {self.owner}, 계좌번호: {self.account_number}, 잔고: {self.balance:,}\")\n",
    "              \n",
    "              \n",
    "    def deposit_history(self):\n",
    "              print(f\"[입금 내역] {self.deposit_list}\")\n",
    "              \n",
    "    def withdraw_history(self):\n",
    "              print(f\"[출금 내역] {self.withdraw_list}\")\n",
    " "
   ]
  },
  {
   "cell_type": "code",
   "execution_count": 21,
   "id": "400552fe",
   "metadata": {},
   "outputs": [],
   "source": [
    "a = Account(\"서민영\", 1000000)\n",
    "b = Account(\"강아지\", 50000)\n",
    "c = Account(\"고양이\", 30000)\n",
    "\n",
    "accounts = [a, b, c]"
   ]
  },
  {
   "cell_type": "code",
   "execution_count": 22,
   "id": "223b8186",
   "metadata": {
    "scrolled": true
   },
   "outputs": [
    {
     "name": "stdout",
     "output_type": "stream",
     "text": [
      "은행이름: SC은행, 예금주: 서민영, 계좌번호: 690-94-840718, 잔고: 1,000,000\n"
     ]
    }
   ],
   "source": [
    "for i in accounts:\n",
    "    if i.balance >= 1000000:\n",
    "        i.display_info()"
   ]
  },
  {
   "cell_type": "code",
   "execution_count": 23,
   "id": "07d7014a",
   "metadata": {},
   "outputs": [
    {
     "name": "stdout",
     "output_type": "stream",
     "text": [
      "50000원 입금되었습니다. 잔액: 1,050,000원\n"
     ]
    }
   ],
   "source": [
    "a.deposit(50000)\n"
   ]
  },
  {
   "cell_type": "code",
   "execution_count": 24,
   "id": "70e83ef2",
   "metadata": {},
   "outputs": [
    {
     "name": "stdout",
     "output_type": "stream",
     "text": [
      "30000원 출금 되었습니다. 잔액: 1,020,000원\n"
     ]
    }
   ],
   "source": [
    "a.withdraw(30000)"
   ]
  },
  {
   "cell_type": "code",
   "execution_count": 32,
   "id": "db561d3d",
   "metadata": {},
   "outputs": [
    {
     "name": "stdout",
     "output_type": "stream",
     "text": [
      "1000원 입금되었습니다. 잔액: 52,000원\n"
     ]
    }
   ],
   "source": [
    "b.deposit(1000)"
   ]
  },
  {
   "cell_type": "code",
   "execution_count": 29,
   "id": "cbcd31db",
   "metadata": {},
   "outputs": [],
   "source": [
    "#Q2. RPG게임 만들기\n",
    "\n",
    "\n",
    "class Character:\n",
    "    def __init__(self, name, level, health, attack, defense):\n",
    "        self.name = name\n",
    "        self.level = level\n",
    "        self.health = health\n",
    "        self.attack = attack\n",
    "        self.defense = defense\n",
    "        \n",
    "    def is_alive(self):\n",
    "        return self.health > 0\n",
    "    \n",
    "    def take_damage(self, damage):\n",
    "        true_damage = damage - self.defense\n",
    "        \n",
    "        if true_damage > 0:\n",
    "            self.health -= true_damage\n",
    "            print(f\"{self.name}이 {true_damage}의 피해를 입었습니다. 현재 체력: {self.hp}\")\n",
    "        else:\n",
    "            print(f\"{self.name}이 방어력으로 피해를 막았습니다.)\n",
    "                  \n",
    "            \n",
    "    \n",
    "    def attack_target(self, target):\n",
    "                  damage = random.randint(1, self.attack)\n",
    "                  print(f\"{self.name}가 {target.name}에게 {damage}를 입혔습니다.\")\n",
    "#                   target.take_damage(damage)\n",
    "                  \n",
    "                  \n",
    "                  \n",
    "class Player(Character):\n",
    "                  def __init__ (self, name):\n",
    "                  super().__init__(name, level=1, health=100, attack=25, defense=5)\n",
    "                  self.exp = 0   # 경험치 속성 추가\n",
    "                  \n",
    "                  def gain_experience(self,amount):\n",
    "                  self.exp += amount\n",
    "                  print(f\"{self.name}이 {amount} 경험치를 획득하였습니다. (현재 경험치: {self.exp})\")\n",
    "                  \n",
    "                  def level_up(self):\n",
    "                  if self.exp >= 50:\n",
    "                  self.exp -= 50\n",
    "                  self.level += 1\n",
    "                  self.attack += 10\n",
    "                  self.defense += 5\n",
    "                  print(f\"레벨 업! {self.name}은 레벨 {self.level}이 되었습니다!\")\n",
    "                  \n",
    "                  \n",
    "class Monster(Character):\n",
    "                  def __init__ (self, name, init):\n",
    "                  health = random.randint(10, 30) * level\n",
    "                  attack = random.randint(5, 20) * level\n",
    "                  defense = random.randint(1, 5) * level\n",
    "                  super(),__init__(name, level, health, attack, defense)\n",
    "                  \n",
    "                  \n",
    "                  \n",
    "#생명력이 0이 되기 전까지 계에에에속 싸움\n",
    "                  \n",
    "def battle(player, monster):\n",
    "                  while player.is_alive() and monster.is_alive():\n",
    "                  player.attack_target(monster)\n",
    "                  if monster.is_alive():\n",
    "                  monster.attack_target(player)\n",
    "                  \n",
    "                  if player.is_alive():\n",
    "                  print(f\"전투 승리!\")\n",
    "                  gained_exp = monster.level * 20\n",
    "                  \n",
    "                  "
   ]
  },
  {
   "cell_type": "code",
   "execution_count": null,
   "id": "9e1095c1",
   "metadata": {},
   "outputs": [],
   "source": []
  }
 ],
 "metadata": {
  "kernelspec": {
   "display_name": "Python 3 (ipykernel)",
   "language": "python",
   "name": "python3"
  },
  "language_info": {
   "codemirror_mode": {
    "name": "ipython",
    "version": 3
   },
   "file_extension": ".py",
   "mimetype": "text/x-python",
   "name": "python",
   "nbconvert_exporter": "python",
   "pygments_lexer": "ipython3",
   "version": "3.9.7"
  }
 },
 "nbformat": 4,
 "nbformat_minor": 5
}
